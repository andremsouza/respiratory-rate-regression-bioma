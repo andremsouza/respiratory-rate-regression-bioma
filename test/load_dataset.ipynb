{
 "cells": [
  {
   "cell_type": "markdown",
   "metadata": {},
   "source": [
    "# Imports"
   ]
  },
  {
   "cell_type": "code",
   "execution_count": null,
   "metadata": {},
   "outputs": [],
   "source": [
    "from datetime import datetime\n",
    "import os\n",
    "import sys\n",
    "\n",
    "import dotenv\n",
    "import pandas as pd\n",
    "\n",
    "# Import packages from parent directory\n",
    "sys.path.append(\"../\")\n",
    "from datasets import VideoDataset  # noqa: E402\n",
    "from label_studio.api import LabelStudioAPI  # noqa: E402"
   ]
  },
  {
   "cell_type": "markdown",
   "metadata": {},
   "source": [
    "# Constants and global variables"
   ]
  },
  {
   "cell_type": "code",
   "execution_count": null,
   "metadata": {},
   "outputs": [],
   "source": [
    "dotenv.load_dotenv(verbose=True, override=True)\n",
    "LABEL_STUDIO_URL: str = str(os.getenv(\"LABEL_STUDIO_URL\", \"http://localhost:8080\"))\n",
    "LABEL_STUDIO_API_KEY: str = str(os.getenv(\"LABEL_STUDIO_API_KEY\", \"\"))\n",
    "LABEL_STUDIO_CONTAINER_ID: str = str(os.getenv(\"LABEL_STUDIO_CONTAINER_ID\", None))\n",
    "LABEL_STUDIO_CONTAINER_DATA_DIR: str = str(os.getenv(\"LABEL_STUDIO_CONTAINER_DATA_DIR\", None))\n",
    "LABEL_STUDIO_DOWNLOAD_DIR: str = str(os.getenv(\"LABEL_STUDIO_DOWNLOAD_DIR\", None))\n",
    "LABEL_STUDIO_PROJECT_ID: int = int(os.getenv(\"LABEL_STUDIO_PROJECT_ID\", \"1\"))"
   ]
  },
  {
   "cell_type": "markdown",
   "metadata": {},
   "source": [
    "# Load and test API"
   ]
  },
  {
   "cell_type": "code",
   "execution_count": null,
   "metadata": {},
   "outputs": [],
   "source": [
    "# Load API\n",
    "api: LabelStudioAPI = LabelStudioAPI(\n",
    "    url=LABEL_STUDIO_URL,\n",
    "    api_key=LABEL_STUDIO_API_KEY,\n",
    "    data_dir=LABEL_STUDIO_DOWNLOAD_DIR,\n",
    "    container_id=LABEL_STUDIO_CONTAINER_ID,\n",
    "    container_data_dir=LABEL_STUDIO_CONTAINER_DATA_DIR,\n",
    ")"
   ]
  },
  {
   "cell_type": "markdown",
   "metadata": {},
   "source": [
    "# Load and test Dataset"
   ]
  },
  {
   "cell_type": "code",
   "execution_count": null,
   "metadata": {},
   "outputs": [],
   "source": [
    "# Load and test dataset\n",
    "dataset = VideoDataset(\n",
    "    url=LABEL_STUDIO_URL,\n",
    "    api_key=LABEL_STUDIO_API_KEY,\n",
    "    project_id=LABEL_STUDIO_PROJECT_ID,\n",
    "    data_dir=LABEL_STUDIO_DOWNLOAD_DIR,\n",
    "    container_id=LABEL_STUDIO_CONTAINER_ID,\n",
    "    container_data_dir=LABEL_STUDIO_CONTAINER_DATA_DIR,\n",
    "    download_videos=True,\n",
    "    download_videos_overwrite=False,\n",
    "    bbox_transform=True,\n",
    ")"
   ]
  },
  {
   "cell_type": "code",
   "execution_count": null,
   "metadata": {},
   "outputs": [],
   "source": [
    "dataset.samples"
   ]
  },
  {
   "cell_type": "code",
   "execution_count": null,
   "metadata": {},
   "outputs": [],
   "source": [
    "dataset.samples.columns"
   ]
  },
  {
   "cell_type": "code",
   "execution_count": null,
   "metadata": {},
   "outputs": [],
   "source": [
    "# Iterate over dataset\n",
    "dataset_len = len(dataset)\n",
    "for idx in range(dataset_len):\n",
    "    video, target = dataset[idx]\n",
    "    print(\n",
    "        f\"[{datetime.now().strftime('%Y-%m-%d %H:%M:%S')}] Step {idx}/{dataset_len}\",\n",
    "        video.shape,\n",
    "        target,\n",
    "    )"
   ]
  },
  {
   "cell_type": "code",
   "execution_count": null,
   "metadata": {},
   "outputs": [],
   "source": []
  }
 ],
 "metadata": {
  "kernelspec": {
   "display_name": "torch",
   "language": "python",
   "name": "python3"
  },
  "language_info": {
   "codemirror_mode": {
    "name": "ipython",
    "version": 3
   },
   "file_extension": ".py",
   "mimetype": "text/x-python",
   "name": "python",
   "nbconvert_exporter": "python",
   "pygments_lexer": "ipython3",
   "version": "3.11.6"
  }
 },
 "nbformat": 4,
 "nbformat_minor": 2
}
